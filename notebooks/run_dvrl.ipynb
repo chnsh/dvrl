{
 "cells": [
  {
   "cell_type": "code",
   "execution_count": null,
   "metadata": {},
   "outputs": [],
   "source": [
    "import torch.nn.functional as F\n",
    "%load_ext autoreload\n",
    "%autoreload 2"
   ]
  },
  {
   "cell_type": "code",
   "execution_count": null,
   "metadata": {
    "collapsed": false,
    "jupyter": {
     "outputs_hidden": false
    },
    "pycharm": {
     "name": "#%%\n"
    }
   },
   "outputs": [],
   "source": [
    "from dvrl.training.train import run_mnist_dvrl, run_fashion_mnist_dvrl, run_cifar_dvrl"
   ]
  },
  {
   "cell_type": "code",
   "execution_count": null,
   "metadata": {},
   "outputs": [],
   "source": [
    "prediction_hparams = {'activation_fn': F.relu,\n",
    "                      'predictor_lr': 1e-3,\n",
    "                      'num_classes': 10,\n",
    "                      'inner_batch_size': 256,\n",
    "                      'num_inner_iterations': 15\n",
    "                      }"
   ]
  },
  {
   "cell_type": "code",
   "execution_count": null,
   "metadata": {},
   "outputs": [],
   "source": [
    "dvrl_hparams = {'dve_lr': 1e-3,\n",
    "                'epsilon': 1e-8,\n",
    "                'T': 20,\n",
    "                'num_classes':10,\n",
    "                'outer_batch_size': 2000,\n",
    "                'exploration_threshold':0.9\n",
    "                }"
   ]
  },
  {
   "cell_type": "code",
   "execution_count": null,
   "metadata": {
    "collapsed": false,
    "jupyter": {
     "outputs_hidden": false
    },
    "pycharm": {
     "name": "#%%\n"
    }
   },
   "outputs": [],
   "source": [
    "mnist_pred_model, mnist_dve_model = run_mnist_dvrl(prediction_hparams=prediction_hparams, dvrl_hparams=dvrl_hparams)"
   ]
  },
  {
   "cell_type": "code",
   "execution_count": null,
   "metadata": {},
   "outputs": [],
   "source": [
    "fasion_mnist_pred_model, fashion_mnist_dve_model = run_fashion_mnist_dvrl(prediction_hparams=prediction_hparams, dvrl_hparams=dvrl_hparams)"
   ]
  },
  {
   "cell_type": "code",
   "execution_count": null,
   "metadata": {},
   "outputs": [],
   "source": [
    "cifar_pred_model, cifar_dve_model = run_cifar_dvrl(prediction_hparams=prediction_hparams, dvrl_hparams=dvrl_hparams)"
   ]
  },
  {
   "cell_type": "code",
   "execution_count": null,
   "metadata": {},
   "outputs": [],
   "source": []
  }
 ],
 "metadata": {
  "kernelspec": {
   "display_name": "Python 3",
   "language": "python",
   "name": "python3"
  },
  "language_info": {
   "codemirror_mode": {
    "name": "ipython",
    "version": 3
   },
   "file_extension": ".py",
   "mimetype": "text/x-python",
   "name": "python",
   "nbconvert_exporter": "python",
   "pygments_lexer": "ipython3",
   "version": "3.7.9"
  }
 },
 "nbformat": 4,
 "nbformat_minor": 4
}
