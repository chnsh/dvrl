{
 "cells": [
  {
   "cell_type": "code",
   "execution_count": 1,
   "metadata": {
    "collapsed": true
   },
   "outputs": [],
   "source": [
    "import torch.nn.functional as F\n",
    "from torchvision import transforms as transform_lib\n",
    "from torchvision.datasets import MNIST\n",
    "from pl_bolts.datamodules.mnist_datamodule import MNISTDataModule\n",
    "%load_ext autoreload\n",
    "%autoreload 2"
   ]
  },
  {
   "cell_type": "code",
   "execution_count": null,
   "outputs": [],
   "source": [
    "from dvrl.training.experiments import RemovingSamplesExperiment\n",
    "from dvrl.training.train import run_mnist_dvrl"
   ],
   "metadata": {
    "collapsed": false,
    "pycharm": {
     "name": "#%%\n"
    }
   }
  },
  {
   "cell_type": "code",
   "execution_count": null,
   "outputs": [],
   "source": [
    "prediction_hparams = {'pred_hidden_dim': 256,\n",
    "                      'pred_num_layers': 5,\n",
    "                      'activation_fn': F.relu,\n",
    "                      'predictor_lr': 1e-3,\n",
    "                      'num_classes': 10,\n",
    "                      'inner_batch_size': 32,\n",
    "                      'num_inner_iterations': 100\n",
    "                      }\n",
    "dvrl_hparams = {'dve_hidden_dim': 256,\n",
    "                'dve_comb_dim': 128,\n",
    "                'dve_num_layers': 5,\n",
    "                'dve_lr': 1e-2,\n",
    "                'epsilon': 1e-8,\n",
    "                'T': 20,\n",
    "                'num_classes':10,\n",
    "                'outer_batch_size':2000\n",
    "                }"
   ],
   "metadata": {
    "collapsed": false,
    "pycharm": {
     "name": "#%%\n"
    }
   }
  },
  {
   "cell_type": "code",
   "execution_count": null,
   "outputs": [],
   "source": [
    "pred_model, dve_model = run_mnist_dvrl(prediction_hparams, dvrl_hparams)\n"
   ],
   "metadata": {
    "collapsed": false,
    "pycharm": {
     "name": "#%%\n"
    }
   }
  },
  {
   "cell_type": "code",
   "execution_count": null,
   "outputs": [],
   "source": [
    "DATA_PATH = 'data/raw'\n",
    "datamodule = MNISTDataModule(data_dir=DATA_PATH + '/mnist_')\n",
    "datamodule.prepare_data()  # downloads data to given path\n",
    "train_dataloader = datamodule.train_dataloader(batch_size=dvrl_hparams.get('outer_batch_size', 32))\n",
    "val_dataloader = datamodule.val_dataloader(batch_size=dvrl_hparams.get('outer_batch_size', 32))\n",
    "test_dataloader = datamodule.test_dataloader(batch_size=dvrl_hparams.get('outer_batch_size', 32))"
   ],
   "metadata": {
    "collapsed": false,
    "pycharm": {
     "name": "#%%\n"
    }
   }
  },
  {
   "cell_type": "code",
   "execution_count": null,
   "outputs": [],
   "source": [
    "transforms = transform_lib.Compose([transform_lib.ToTensor()])\n",
    "dataset = MNIST(DATA_PATH + '/mnist_', train=True, download=False, transform=transforms)\n",
    "\n",
    "exp_remove_samples = RemovingSamplesExperiment(dataset, dve_model, train_dataloader, val_dataloader, test_dataloader,\n",
    "                                               prediction_hparams)\n",
    "exp_remove_samples.run_experiment()"
   ],
   "metadata": {
    "collapsed": false,
    "pycharm": {
     "name": "#%%\n"
    }
   }
  }
 ],
 "metadata": {
  "kernelspec": {
   "display_name": "Python 3",
   "language": "python",
   "name": "python3"
  },
  "language_info": {
   "codemirror_mode": {
    "name": "ipython",
    "version": 2
   },
   "file_extension": ".py",
   "mimetype": "text/x-python",
   "name": "python",
   "nbconvert_exporter": "python",
   "pygments_lexer": "ipython2",
   "version": "2.7.6"
  }
 },
 "nbformat": 4,
 "nbformat_minor": 0
}